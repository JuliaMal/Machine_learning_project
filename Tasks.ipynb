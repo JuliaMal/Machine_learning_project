{
 "cells": [
  {
   "cell_type": "markdown",
   "metadata": {},
   "source": [
    "## __Table of Contents:__\n",
    "   [1.&emsp;Task 1](#t1)<br>\n",
    "   [2.&emsp;Task 2](#t2)<br>\n",
    "   [3.&emsp;Task 3](#t3)<br>\n",
    "   [4.&emsp;Task 4](#t4)<br>\n",
    "   [5.&emsp;References](#references)<br>"
   ]
  },
  {
   "cell_type": "markdown",
   "metadata": {},
   "source": [
    "<a id=\"t1\"></a>"
   ]
  },
  {
   "cell_type": "markdown",
   "metadata": {},
   "source": [
    "## **Task #1**\n",
    "***"
   ]
  },
  {
   "cell_type": "markdown",
   "metadata": {},
   "source": [
    "Write a Python function called `sqrt2`that calculates and prints to the screen the square root of 2 to 100 decimal places.\n",
    "***"
   ]
  },
  {
   "cell_type": "markdown",
   "metadata": {},
   "source": [
    "### Solution"
   ]
  },
  {
   "cell_type": "markdown",
   "metadata": {},
   "source": [
    "During the lecture it was introduced the Newton's method to calculate $\\sqrt{2}$ without using any module from the standard Python library or otherwise. The code below was taken from the lecture:"
   ]
  },
  {
   "cell_type": "code",
   "execution_count": 9,
   "metadata": {},
   "outputs": [],
   "source": [
    "# A function to calculate the square root of a number x.\n",
    "def sqrt():\n",
    "    \"\"\"\n",
    "    A function to calculate the square root of a number x\n",
    "    \"\"\"\n",
    "    # Initial guess for the square root z\n",
    "    x = 2\n",
    "    z = x / 2\n",
    "    # Loop until we're happy with the accuracy\n",
    "    while abs(x - (z * z)) > 0.000001:\n",
    "        # Calculate a better guess for the square root.\n",
    "        z -= (z*z - x) / (2*z)\n",
    "    # Return the (approximate) square root of x.   \n",
    "    return z"
   ]
  },
  {
   "cell_type": "code",
   "execution_count": 10,
   "metadata": {},
   "outputs": [
    {
     "data": {
      "text/plain": [
       "1.4142135623746899"
      ]
     },
     "execution_count": 10,
     "metadata": {},
     "output_type": "execute_result"
    }
   ],
   "source": [
    "sqrt()"
   ]
  },
  {
   "cell_type": "markdown",
   "metadata": {},
   "source": [
    "For this assessment I've choosen to show how to calculate $\\sqrt{2}$ using a different method - **Binary Search**."
   ]
  },
  {
   "cell_type": "markdown",
   "metadata": {},
   "source": [
    "### CALCULATION OF $\\sqrt{2}$ USING BINARY SEARCH \n",
    "\n",
    "In computer science, **Binary Search**, also known as half-interval search, logarithmic search, or binary chop, is a search algorithm that finds the position of a target value within a sorted array. [1]\n",
    "\n",
    "It compares the middle number of the array with the searched value. If the middle number equals the searched value, the position of the middle number is returned. If the middle number is bigger, the left portion of the array is searched using the same logic (binary search), else the right portion of the array is searched using binary search. [2]."
   ]
  },
  {
   "cell_type": "markdown",
   "metadata": {},
   "source": [
    "To find a square root of the value 2, we are going to serch for a number that falls in the range between lowest boundary = 0 and highest boundary = 2."
   ]
  },
  {
   "cell_type": "code",
   "execution_count": 11,
   "metadata": {},
   "outputs": [
    {
     "name": "stdout",
     "output_type": "stream",
     "text": [
      "1.414213562373095048801688724209698078569671875376948073176679737990732478462107038850387534327641573\n"
     ]
    }
   ],
   "source": [
    "# import decimal module \n",
    "# as the precision using the floating point numbers is limited. A Python float have about 16 decimals of precision. Hawever,\n",
    "from decimal import *\n",
    "#as per Task#1, the answer has to have 100 decimal places, therefore the precision is equal 100 [4].\n",
    "getcontext().prec = 100\n",
    "\n",
    "def sqrt2():\n",
    "    \"\"\"\n",
    "    A function to calculate the square root of a number 2\n",
    "    \"\"\"\n",
    "    # lowest boundary value is equal 0, and the highest is equal 2. The square root of 2 should be between these two values.\n",
    "    num = Decimal(2)\n",
    "    low = Decimal(0)\n",
    "    high = num\n",
    "    \n",
    "    # Our initial guess value will be the middle value between highest & lowest boundaries.\n",
    "    guess = (high - low) / 2\n",
    "    \n",
    "    # Looping until the guess value neither equal low nor equal high values:\n",
    "    while guess != low and guess != high:\n",
    "        # calculating square of the guess value\n",
    "        sqr = guess * guess\n",
    "        \n",
    "        # if square root of the guessed number equal the initial num, break the loop\n",
    "        if sqr == num:\n",
    "            break\n",
    "        # otherwise if sqrt is less than our number 2 the low is getting a new value, which is equal guess\n",
    "        elif(sqr < num):\n",
    "            low = guess\n",
    "        # otherwise the high is getting a new value, which is equal guess\n",
    "        else:\n",
    "            high = guess\n",
    "        # guess is getting a new middle value (the formula: low + (high - low) / 2 is used instead of (high - low) / 2 , to help avoid overflow of 32-big integer)\n",
    "        guess = low + (high - low) / 2\n",
    "    \n",
    "    # if guess is equal one of value of the boundaries\n",
    "    else:\n",
    "        # checking if the difference between squared low boundary minus initial number 2 is less than the difference between squared high boundary minus 2\n",
    "        if abs(low * low - num) < abs(high * high - num):\n",
    "            # if true, low is getting a new value, which is equal guess\n",
    "            guess = low\n",
    "        else:\n",
    "            # otherwise high is getting a new value\n",
    "            guess = high\n",
    "    # returning the answer\n",
    "    return guess\n",
    "\n",
    "# printing the answer to 100 decimal places:\n",
    "print(sqrt2())"
   ]
  },
  {
   "cell_type": "markdown",
   "metadata": {},
   "source": [
    "<a id=\"t2\"></a>"
   ]
  },
  {
   "cell_type": "markdown",
   "metadata": {},
   "source": [
    "## **Task #2**\n",
    "***"
   ]
  },
  {
   "cell_type": "markdown",
   "metadata": {},
   "source": [
    "The Chi-squared test for independence is a statistical hypothesis test like a t-test. It is used to analyse whether two categorical variables\n",
    "are independent. The Wikipedia article gives the table below as an example [9], stating the Chi-squared value based on it is approximately 24.6. Use `scipy.stats`\n",
    "to verify this value and calculate the associated p value.\n",
    "\n",
    "|  | A | B | C | D | Total |\n",
    "| --- | --- | --- | --- | --- | --- |\n",
    "| White collar | 90 | 60 | 104 | 95 | 349 |\n",
    "| Blue collar | 30 | 50 | 51 | 20 | 151 |\n",
    "| No collar | 30 | 40 | 45 | 35 | 150 |\n",
    "| Total collar | 150 | 150 | 200 | 150 | 650 |\n",
    "\n",
    "***"
   ]
  },
  {
   "cell_type": "markdown",
   "metadata": {},
   "source": [
    "The **Pearson’s Chi-Squared test**, or just **Chi-Squared test** for short, is named for Karl Pearson, although there are variations on the test.\n",
    "\n",
    "The Chi-Squared test is a statistical hypothesis test that assumes (the null hypothesis) that the observed frequencies for a categorical variable match the expected frequencies for the categorical variable. The test calculates a statistic that has a chi-squared distribution, named for the Greek capital letter Chi $\\chi$ pronounced “ki” as in kite.[10].\n",
    "\n",
    "The result of the test is a test statistic that has a chi-squared distribution and can be interpreted to reject or fail to reject the assumption or null hypothesis that the observed and expected frequencies are the same.\n",
    "\n",
    "We can interpret the test statistic in the context of the chi-squared distribution with the requisite number of degress of freedom as follows:\n",
    "\n",
    "* If **Statistic >= Critical Value**: significant result, reject null hypothesis (H0), dependent.\n",
    "* If **Statistic < Critical Value**: not significant result, fail to reject null hypothesis (H0), independent.\n",
    "\n",
    "In terms of a p-value and a chosen significance level (alpha), the test can be interpreted as follows:\n",
    "\n",
    "* If **p-value <= ignificance level**: significant result, reject null hypothesis (H0), dependent.\n",
    "* If **p-value > ignificance level**: not significant result, fail to reject null hypothesis (H0), independent."
   ]
  },
  {
   "cell_type": "markdown",
   "metadata": {},
   "source": [
    "### Solution"
   ]
  },
  {
   "cell_type": "markdown",
   "metadata": {},
   "source": [
    "Suppose there is a city of 1,000,000 residents with four neighborhoods: A, B, C, and D. A random sample of 650 residents of the city is taken and their occupation is recorded as \"white collar\", \"blue collar\", or \"no collar\". [9].\n",
    "\n",
    "The null hypothesis is that each person's neighborhood of residence is independent of the person's occupational classification. \n",
    "\n",
    "The data are tabulated above in the Task #2 section."
   ]
  },
  {
   "cell_type": "code",
   "execution_count": 12,
   "metadata": {},
   "outputs": [
    {
     "name": "stdout",
     "output_type": "stream",
     "text": [
      "Initial table:\n",
      "[[ 90  60 104  95]\n",
      " [ 30  50  51  20]\n",
      " [ 30  40  45  35]]\n",
      "\n",
      "p-value =  0.00041\n",
      "Degrees of freedom =  6\n",
      "Chi-squared statistic =  24.6\n",
      "Critical value =  12.6\n"
     ]
    }
   ],
   "source": [
    "#importing python libraries\n",
    "import numpy as np\n",
    "from scipy import stats\n",
    "from scipy.stats import chi2\n",
    "\n",
    "# Input the data.\n",
    "white = [90, 60, 104, 95]\n",
    "blue = [30, 50, 51, 20]\n",
    "no = [30,  40,  45, 35]\n",
    "\n",
    "# creating an array from the data above\n",
    "table = np.array([white, blue, no])\n",
    "\n",
    "# runing the Chi-squared test using scipy.stats library\n",
    "# Chi2_st is chi-square statistic\n",
    "# p_val is a p-value\n",
    "# dof = degrees of freedom (is calculated by taking the number of rows minus one \n",
    "# and multiplying this result by the number of columns minus one)\n",
    "# con_tbl is a contingency table with expected values based on all of our samples.\n",
    "chi2_st, p_val, dof, con_tbl = stats.chi2_contingency(table)\n",
    "\n",
    "# probability\n",
    "prob = 0.95\n",
    "\n",
    "#calculating the critical value\n",
    "critical = chi2.ppf(prob, dof)\n",
    "\n",
    "#Output\n",
    "print(\"Initial table:\")\n",
    "print(table)\n",
    "print(\"\")\n",
    "print(\"p-value = \",format(p_val, '.5f'))\n",
    "print(\"Degrees of freedom = \",dof)\n",
    "print(\"Chi-squared statistic = \", format(chi2_st, '.1f'))\n",
    "print(\"Critical value = \", format(critical, '.1f'))"
   ]
  },
  {
   "cell_type": "markdown",
   "metadata": {},
   "source": [
    "P-value (0.00041) is less than the significance level (0.05), therefore it's statistically significant. This means there’s only about a 0.04% chance that we’d see this result if the person's neighborhood of residence were truly random.\n",
    "\n",
    "The Chi-squared statistics is greater than the Critical value, therefore based on this we can reject the null hypothesis (H0), as the result is significant."
   ]
  },
  {
   "cell_type": "code",
   "execution_count": 13,
   "metadata": {},
   "outputs": [
    {
     "name": "stdout",
     "output_type": "stream",
     "text": [
      "Contingency table\n",
      "[[ 80.53846154  80.53846154 107.38461538  80.53846154]\n",
      " [ 34.84615385  34.84615385  46.46153846  34.84615385]\n",
      " [ 34.61538462  34.61538462  46.15384615  34.61538462]]\n"
     ]
    }
   ],
   "source": [
    "print(\"Contingency table\")\n",
    "print(con_tbl)"
   ]
  },
  {
   "cell_type": "markdown",
   "metadata": {},
   "source": [
    "The contingency table produced values that are, in some cases, quite different comparing to the initial dataset. This is because we are using too small of a sample to accurate measure the population."
   ]
  },
  {
   "cell_type": "markdown",
   "metadata": {},
   "source": [
    "<a id=\"t3\"></a>"
   ]
  },
  {
   "cell_type": "markdown",
   "metadata": {},
   "source": [
    "## **Task #3**\n",
    "***"
   ]
  },
  {
   "cell_type": "markdown",
   "metadata": {},
   "source": [
    "The standard deviation of an array of numbers x is calculated using numpy as `np.sqrt(np.sum((x - np.mean(x))**2)/len(x))`. However, Microsoft Excel has two different versions of the standard deviation calculation, `STDEV.P` and `STDEV.S`. The `STDEV.P` function performs the above calculation but in the `STDEV.S` calculation the division is by `len(x)-1` rather than `len(x)`. Research these Excel functions, writing a note in a Markdown cell about the difference between them. Then use `numpy` to perform a simulation demonstrating that the `STDEV.S` calculation is a better estimate for the standard deviation of a population when performed on a sample. \n",
    "\n",
    "*Note that part of this task is to figure out the terminology in the previous sentence.\n",
    "***"
   ]
  },
  {
   "cell_type": "markdown",
   "metadata": {},
   "source": [
    "### Solution"
   ]
  },
  {
   "cell_type": "markdown",
   "metadata": {},
   "source": [
    "MS Excel function `STDEV.S` function is used to calculate the standard deviation in the sample data set.\n",
    "`STDEV.P` is used to calculate the standard deviation for the entire population.\n",
    "\n",
    "`numpy.std()` function in Python returns the standard deviation, a measure of the spread of a distribution, of the array elements. \n",
    "The standard deviation is the square root of the average of the squared deviations from the mean, i.e., `std = sqrt(mean(x))`, where `x = abs(a - a.mean())**2`.\n",
    "\n",
    "The average squared deviation is typically calculated as `x.sum()/N`, where `N = len(x)`. If, however, **ddof** (Delta Degrees of Freedom. By default ddof is zero) is specified, the divisor **N - ddof** is used instead. In standard statistical practice, **ddof=1** provides an unbiased estimator of the variance of the infinite population. **ddof=0** provides a maximum likelihood estimate of the variance for normally distributed variables. The standard deviation computed in this function is the square root of the estimated variance, so even with ddof=1, it will not be an unbiased estimate of the standard deviation per set.[20]"
   ]
  },
  {
   "cell_type": "markdown",
   "metadata": {},
   "source": [
    "\n",
    "\n",
    "When dealing with statistical data, it is important to distinguish between \"population\" data sets and \"sample\" data sets: [15]\n",
    "- A **population** data set contains all members of a specified group (the entire list of possible data values). \n",
    "- A **sample data** set contains a part, or a subset, of a population. The size of a sample is always less than the size of the population from which it is taken.\n",
    "\n",
    "When calculating the standard deviation, it is important to know if you are working with an entire population (where you have all of the possible data), or if you are working with only a sample (a part) of the data. In addition, if you are using a sample of the data, you need to know if you will be making generalizations about the entire population, based upon this sample.\n",
    "\n",
    "Use \"population\" when:\n",
    "1. you know you have the entire population.\n",
    "2. you have a sample of a larger population, but you are only interested in this sample (and you will not be generalizing your findings to the entire larger population).\n",
    "\n",
    "Use \"sample\" when:\n",
    "1. you have a sample of a larger population, and you wish to generalize your findings from this sample to the entire larger population from which this sample was taken. The sample will be used as an estimate of the population.\n",
    "\n",
    "Difference between `STDEV.S` and `STDEV.P`:[18]\n",
    "- The `STDEV.S` function is used when your data is a sample of entire population.\n",
    "- The `STDEV.P` function is used when your data represents the entire population.\n",
    "- In `STDEV.S` the squared deviation is divided by total number of sample -1. It is represented sa **N-1**.\n",
    "- In `STDEV.P` function, the squared deviation is divided by total number of arguments, mostly represented as **N**. that is why, `STDEV.P` is smaller than `STDEV.S`. Since, `STDEV.P` function takes whole data, and some factors may dominate the result standard deviation. And Since it will be taken as the standard deviation for everyone in data, even for minorities, this is called Biased Analysis. This is why, this standard deviation is recommended to use only when analysis is non-destructive.\n",
    "- The `STDEV.S` function is used on small sample of entire population, we subtract 1 from denominator (number of samples arguments). This is called non-biassed analysis of standard deviation. This is used when analysis is destructive.\n",
    "\n",
    "The practice of dividing by `N - 1` (instead of `N`) when working with a sample of the entire population, produces a slight difference in the final calculation. This slight difference allows the sample to give a better mathematical estimate of the population. Think of dividing by `N - 1` (instead of `N`) in the sample as a means of \"compensating\" for the fact that we are working with a sample of the population, rather than with the entire population. It statistically gives the best estimate.[16]\n"
   ]
  },
  {
   "cell_type": "code",
   "execution_count": 14,
   "metadata": {},
   "outputs": [
    {
     "name": "stdout",
     "output_type": "stream",
     "text": [
      "Population Mean: 0.49953493113924047\n",
      "Population Standard deviation: 0.2901287375713698\n"
     ]
    }
   ],
   "source": [
    "# Numerical arrays\n",
    "import numpy as np\n",
    "import pandas as pd\n",
    "from pandas import DataFrame\n",
    "\n",
    "# statitical models\n",
    "import statistics as sts\n",
    "\n",
    "#generating random numbers\n",
    "from random import random\n",
    "\n",
    "# importing square root function\n",
    "from math import sqrt\n",
    "\n",
    "# visualization\n",
    "import matplotlib.pyplot as plt\n",
    "import seaborn as sns\n",
    "\n",
    "# Lets generate set of 1000 random floats in the half-open interval [0.0, 1.0).\n",
    "\n",
    "N = 1000\n",
    "population = pd.Series(np.random.random(N))\n",
    "\n",
    "# calculating standard deviation and mean of the population\n",
    "p_sd = np.std(population)\n",
    "p_mean = np.mean(population)\n",
    "\n",
    "# defining empty arrays\n",
    "meanArray = []\n",
    "avgArray = []\n",
    "indexArray =[]\n",
    "sampleNArray = []\n",
    "sampleN1Array = []\n",
    "\n",
    "# adding 0 as a default value:\n",
    "total_mean = 0\n",
    "avg_mean = 0\n",
    "index = 0\n",
    "\n",
    "# choosing 30 random numbers from the population 1000 times:\n",
    "for k in range(1000):\n",
    "    # lets choose sample of numbers\n",
    "    sample = np.random.choice(population, 30)\n",
    "    \n",
    "    # calculate mean\n",
    "    sample_mean=np.mean(sample)\n",
    "    index = k+1\n",
    "    total_mean = (total_mean + sample_mean)\n",
    "    avg_mean = total_mean/(index)\n",
    "    \n",
    "    # appending data to the arrays\n",
    "    meanArray.append(sample_mean)\n",
    "    avgArray.append(avg_mean)\n",
    "    indexArray.append(index)\n",
    "\n",
    "    # calculate sd for n and n-1\n",
    "    sample_sd_n = np.std(sample)\n",
    "    sample_sd_n1 = np.std(sample, ddof=1)\n",
    "    \n",
    "    # appending data to the sample arrays\n",
    "    sampleNArray.append(sample_sd_n)\n",
    "    sampleN1Array.append(sample_sd_n1)\n",
    "    \n",
    "# printing out the Mean and Standard Deviation of the population:\n",
    "print('Population Mean: ' + str(p_mean))\n",
    "print('Population Standard deviation: ' + str(p_sd))"
   ]
  },
  {
   "cell_type": "code",
   "execution_count": 15,
   "metadata": {},
   "outputs": [
    {
     "name": "stderr",
     "output_type": "stream",
     "text": [
      "C:\\Users\\I304319\\Anaconda3_2020-07\\lib\\site-packages\\seaborn\\distributions.py:2551: FutureWarning: `distplot` is a deprecated function and will be removed in a future version. Please adapt your code to use either `displot` (a figure-level function with similar flexibility) or `histplot` (an axes-level function for histograms).\n",
      "  warnings.warn(msg, FutureWarning)\n"
     ]
    },
    {
     "data": {
      "text/plain": [
       "<AxesSubplot:ylabel='Density'>"
      ]
     },
     "execution_count": 15,
     "metadata": {},
     "output_type": "execute_result"
    },
    {
     "data": {
      "image/png": "[encoded data removed]",
      "text/plain": [
       "<Figure size 432x288 with 1 Axes>"
      ]
     },
     "metadata": {
      "needs_background": "light"
     },
     "output_type": "display_data"
    }
   ],
   "source": [
    "# visualisation of the population distribution\n",
    "sns.distplot(population, color = \"rebeccapurple\")"
   ]
  },
  {
   "cell_type": "markdown",
   "metadata": {},
   "source": [
    "As we expect, if we average all the sample means we can see that the it is a good estimate for the true population mean:"
   ]
  },
  {
   "cell_type": "code",
   "execution_count": 16,
   "metadata": {},
   "outputs": [
    {
     "data": {
      "text/plain": [
       "<matplotlib.collections.LineCollection at 0x1d5a29f16a0>"
      ]
     },
     "execution_count": 16,
     "metadata": {},
     "output_type": "execute_result"
    },
    {
     "data": {
      "image/png": "[encoded data removed]",
      "text/plain": [
       "<Figure size 432x288 with 1 Axes>"
      ]
     },
     "metadata": {
      "needs_background": "light"
     },
     "output_type": "display_data"
    }
   ],
   "source": [
    "# from an array creating a data frame\n",
    "df = DataFrame(meanArray, columns=['Sample_mean'])\n",
    "\n",
    "# calculating the expanding mean values\n",
    "exp_mean = df.expanding().mean()\n",
    "\n",
    "# Plotting the population mean and expanding mean of the sample\n",
    "plt.plot(exp_mean)\n",
    "plt.hlines(p_mean, 0, 1000)"
   ]
  },
  {
   "cell_type": "markdown",
   "metadata": {},
   "source": [
    "Now let's compare the results we would get by using the biased estimator (dividing by n) and the unbiased estimator (dividing by n−1)"
   ]
  },
  {
   "cell_type": "code",
   "execution_count": 36,
   "metadata": {},
   "outputs": [
    {
     "data": {
      "text/plain": [
       "<matplotlib.legend.Legend at 0x1d5a7c9cc70>"
      ]
     },
     "execution_count": 36,
     "metadata": {},
     "output_type": "execute_result"
    },
    {
     "data": {
      "image/png": "[encoded data removed]",
      "text/plain": [
       "<Figure size 432x288 with 1 Axes>"
      ]
     },
     "metadata": {
      "needs_background": "light"
     },
     "output_type": "display_data"
    }
   ],
   "source": [
    "# creating two data frames: one contains biased estimator( division by N), another - unbiased (division by N-1)\n",
    "ssd_NArray = DataFrame (sampleNArray, columns=['Sample_biased_sd'])\n",
    "ssd_N1Array = DataFrame (sampleN1Array, columns=['Sample_unbiased_sd'])\n",
    "\n",
    "# calculating the expanding means of each df\n",
    "exp_ssd_N = ssd_NArray.expanding().mean()\n",
    "exp_ssd_N1 = ssd_N1Array.expanding().mean()\n",
    "\n",
    "# Plotting the results:\n",
    "plt.plot(exp_ssd_N, color='blue', label='Biased (N)')\n",
    "plt.plot(exp_ssd_N1, color='orange', label='Unbiased (N-1)')\n",
    "plt.hlines(p_sd, 0, 1000, label='Standard deviation')\n",
    "\n",
    "# Positionnig the legend\n",
    "plt.legend(loc=\"upper right\")"
   ]
  },
  {
   "cell_type": "markdown",
   "metadata": {},
   "source": [
    "As we can clearly see from the graph above, the biased estimator (blue line) is not estimating the true population variance as accurately as the unbiased estimator (orange line)."
   ]
  },
  {
   "cell_type": "markdown",
   "metadata": {},
   "source": [
    "<a id=\"t4\"></a>"
   ]
  },
  {
   "cell_type": "markdown",
   "metadata": {},
   "source": [
    "## **Task #4**\n",
    "***"
   ]
  },
  {
   "cell_type": "markdown",
   "metadata": {},
   "source": [
    "Use `scikit-learn` to apply `k-means` clustering to Fisher’s famous Iris data set. \n",
    "\n",
    "Explain in a Markdown cell how your code works and how accurate it might be, and then explain how your model could be used to make predictions of species\n",
    "of iris.\n",
    "***"
   ]
  },
  {
   "cell_type": "markdown",
   "metadata": {},
   "source": [
    "Clustering is an unsupervisedlearning method that allows to group set of objects based on similar characteristics. In general, it can help find meaningful structure among your data, group similar data together and discover underlying patterns.\n",
    "\n",
    "`K-means` clustering is one of the simplest unsupervised machine learning algorithms. The goal of this algorithm isto partition the data into set such that the total sum of squared distances from each point to the mean point of the cluster is minimized.\n",
    "\n",
    "Facts `K-means` clustering:[20]\n",
    "- K-means converges in a finite number of iterations. Since the algorithm iterates a function whose domain is a finite set, the iteration must eventually converge.\n",
    "- The computational cost of the k-means algorithm is `O(k*n*d)`, where n is the number of data points, k the number of clusters, and d the number of attributes.\n",
    "- Compared to other clustering methods, the k-means clustering technique is fast and efficient in terms of its computational cost.\n",
    "- It’s difficult to predict the optimal number of clusters or the value of k. To find the number of clusters, we need to run the k-means clustering algorithm for a range of k values and compare the results.\n",
    "\n",
    "`K-means` works through the following iterative process:[21]\n",
    "- Pick a value for k (the number of clusters to create)\n",
    "- Initialize k ‘centroids’ (starting points) in your data\n",
    "- Create your clusters. Assign each point to the nearest centroid.\n",
    "- Make your clusters better. Move each centroid to the center of its cluster.\n",
    "- Repeat steps 3–4 until your centroids converge."
   ]
  },
  {
   "cell_type": "markdown",
   "metadata": {},
   "source": [
    "### Solution"
   ]
  },
  {
   "cell_type": "markdown",
   "metadata": {},
   "source": [
    "For the following example, I am going to use the Iris data set. This data consists of 50 samples from each of three species of Iris (Iris setosa, Iris virginica and Iris versicolor). It has four features from each sample: length and width of sepals and petals."
   ]
  },
  {
   "cell_type": "code",
   "execution_count": 18,
   "metadata": {},
   "outputs": [],
   "source": [
    "# Numerical arrays\n",
    "import numpy as np\n",
    "\n",
    "# read a csv file and organise our data\n",
    "import pandas as pd\n",
    "\n",
    "# Machine Learning - KMeans\n",
    "#from sklearn import datasets\n",
    "from sklearn.cluster import KMeans\n",
    "#import sklearn.cluster as skcl\n",
    "\n",
    "# Plotting & visualisation\n",
    "import matplotlib.pyplot as plt\n",
    "import seaborn as sns\n",
    "%matplotlib inline "
   ]
  },
  {
   "cell_type": "code",
   "execution_count": 19,
   "metadata": {},
   "outputs": [
    {
     "data": {
      "text/html": [
       "<div>\n",
       "<style scoped>\n",
       "    .dataframe tbody tr th:only-of-type {\n",
       "        vertical-align: middle;\n",
       "    }\n",
       "\n",
       "    .dataframe tbody tr th {\n",
       "        vertical-align: top;\n",
       "    }\n",
       "\n",
       "    .dataframe thead th {\n",
       "        text-align: right;\n",
       "    }\n",
       "</style>\n",
       "<table border=\"1\" class=\"dataframe\">\n",
       "  <thead>\n",
       "    <tr style=\"text-align: right;\">\n",
       "      <th></th>\n",
       "      <th>Sepal_length</th>\n",
       "      <th>Sepal_width</th>\n",
       "      <th>Petal_length</th>\n",
       "      <th>Petal_width</th>\n",
       "      <th>Species</th>\n",
       "    </tr>\n",
       "  </thead>\n",
       "  <tbody>\n",
       "    <tr>\n",
       "      <th>0</th>\n",
       "      <td>5.1</td>\n",
       "      <td>3.5</td>\n",
       "      <td>1.4</td>\n",
       "      <td>0.2</td>\n",
       "      <td>setosa</td>\n",
       "    </tr>\n",
       "    <tr>\n",
       "      <th>1</th>\n",
       "      <td>4.9</td>\n",
       "      <td>3.0</td>\n",
       "      <td>1.4</td>\n",
       "      <td>0.2</td>\n",
       "      <td>setosa</td>\n",
       "    </tr>\n",
       "    <tr>\n",
       "      <th>2</th>\n",
       "      <td>4.7</td>\n",
       "      <td>3.2</td>\n",
       "      <td>1.3</td>\n",
       "      <td>0.2</td>\n",
       "      <td>setosa</td>\n",
       "    </tr>\n",
       "    <tr>\n",
       "      <th>3</th>\n",
       "      <td>4.6</td>\n",
       "      <td>3.1</td>\n",
       "      <td>1.5</td>\n",
       "      <td>0.2</td>\n",
       "      <td>setosa</td>\n",
       "    </tr>\n",
       "    <tr>\n",
       "      <th>4</th>\n",
       "      <td>5.0</td>\n",
       "      <td>3.6</td>\n",
       "      <td>1.4</td>\n",
       "      <td>0.2</td>\n",
       "      <td>setosa</td>\n",
       "    </tr>\n",
       "  </tbody>\n",
       "</table>\n",
       "</div>"
      ],
      "text/plain": [
       "   Sepal_length  Sepal_width  Petal_length  Petal_width Species\n",
       "0           5.1          3.5           1.4          0.2  setosa\n",
       "1           4.9          3.0           1.4          0.2  setosa\n",
       "2           4.7          3.2           1.3          0.2  setosa\n",
       "3           4.6          3.1           1.5          0.2  setosa\n",
       "4           5.0          3.6           1.4          0.2  setosa"
      ]
     },
     "execution_count": 19,
     "metadata": {},
     "output_type": "execute_result"
    }
   ],
   "source": [
    "# Read the iris.csv from a file\n",
    "df = pd.read_csv('iris.csv')\n",
    "\n",
    "# checking the first 5 records of the dataset:\n",
    "df.head(5)"
   ]
  },
  {
   "cell_type": "code",
   "execution_count": 20,
   "metadata": {},
   "outputs": [],
   "source": [
    "# Replacing qualitative data of column 'Species' into quantitative:\n",
    "df.replace({'Species': {'setosa':0, 'versicolor':1, 'virginica':2}}, inplace=True)"
   ]
  },
  {
   "cell_type": "code",
   "execution_count": 21,
   "metadata": {},
   "outputs": [],
   "source": [
    "# defining predictors\n",
    "X = df.iloc[:, [0,1,2,3]].values \n",
    "\n",
    "# defining target\n",
    "Y = df.iloc[:, 4].values"
   ]
  },
  {
   "cell_type": "code",
   "execution_count": 22,
   "metadata": {},
   "outputs": [
    {
     "data": {
      "text/plain": [
       "Text(0, 0.5, 'Sepal Width')"
      ]
     },
     "execution_count": 22,
     "metadata": {},
     "output_type": "execute_result"
    },
    {
     "data": {
      "image/png": "[encoded data removed]",
      "text/plain": [
       "<Figure size 432x288 with 1 Axes>"
      ]
     },
     "metadata": {
      "needs_background": "light"
     },
     "output_type": "display_data"
    }
   ],
   "source": [
    "# plotting the initial dataset\n",
    "plt.scatter(X[:,0], X[:,1], c=Y, cmap='gist_rainbow')\n",
    "plt.xlabel('Sepal Length', fontsize=10)\n",
    "plt.ylabel('Sepal Width', fontsize=10)"
   ]
  },
  {
   "cell_type": "markdown",
   "metadata": {},
   "source": [
    "Now, let’s instantiate and fit our `K-means` cluster model. First, we need to validate the optimal amount of clusters in a dataset (in our case we know that there are 3 species of the Iris flowers, but usually this information is not available and we need to determine the best amount of clusters). For this purpose we are going to use a method called the `Elbow method`, which is designed to help find the optimal number of clusters in a dataset. The Elbow method is a very popular technique and the idea is to run k-means clustering for a range of clusters k (let’s say from 1 to 10) and for each value, we are calculating the sum of squared distances from each point to its assigned center(distortions). When the distortions are plotted and the plot looks like an arm then the “elbow”(the point of inflection on the curve) is the best value of k."
   ]
  },
  {
   "cell_type": "code",
   "execution_count": 23,
   "metadata": {},
   "outputs": [],
   "source": [
    "# making a list of distortions values by making a loop in range from 1 to 10 clusters\n",
    "distortions = []\n",
    "K = range(1,10)\n",
    "for k in K:\n",
    "    kmeanModel = KMeans(n_clusters=k)\n",
    "    kmeanModel.fit(X)\n",
    "    distortions.append(kmeanModel.inertia_)"
   ]
  },
  {
   "cell_type": "code",
   "execution_count": 24,
   "metadata": {},
   "outputs": [
    {
     "data": {
      "image/png": "[encoded data removed]",
      "text/plain": [
       "<Figure size 1152x576 with 1 Axes>"
      ]
     },
     "metadata": {
      "needs_background": "light"
     },
     "output_type": "display_data"
    }
   ],
   "source": [
    "# Plotting the distortions of K-means\n",
    "plt.figure(figsize=(16,8))\n",
    "plt.plot(K, distortions, 'bx-')\n",
    "plt.xlabel('Number of clusters')\n",
    "plt.ylabel('Distortion')\n",
    "plt.title('The Elbow Method')\n",
    "plt.show()"
   ]
  },
  {
   "cell_type": "markdown",
   "metadata": {},
   "source": [
    "To determine the optimal number of clusters, we have to select the value of k at the “elbow” ie the point after which the distortion/inertia start decreasing in a linear fashion. Thus for the given data, we conclude that the optimal number of clusters for the data is 3.\n",
    "\n",
    "Now we can run `K-means`for k = 3:"
   ]
  },
  {
   "cell_type": "code",
   "execution_count": 25,
   "metadata": {},
   "outputs": [
    {
     "data": {
      "text/plain": [
       "array([1, 1, 1, 1, 1, 1, 1, 1, 1, 1, 1, 1, 1, 1, 1, 1, 1, 1, 1, 1, 1, 1,\n",
       "       1, 1, 1, 1, 1, 1, 1, 1, 1, 1, 1, 1, 1, 1, 1, 1, 1, 1, 1, 1, 1, 1,\n",
       "       1, 1, 1, 1, 1, 1, 2, 2, 0, 2, 2, 2, 2, 2, 2, 2, 2, 2, 2, 2, 2, 2,\n",
       "       2, 2, 2, 2, 2, 2, 2, 2, 2, 2, 2, 0, 2, 2, 2, 2, 2, 2, 2, 2, 2, 2,\n",
       "       2, 2, 2, 2, 2, 2, 2, 2, 2, 2, 2, 2, 0, 2, 0, 0, 0, 0, 2, 0, 0, 0,\n",
       "       0, 0, 0, 2, 2, 0, 0, 0, 0, 2, 0, 2, 0, 2, 0, 0, 2, 2, 0, 0, 0, 0,\n",
       "       0, 2, 0, 0, 0, 0, 2, 0, 0, 0, 2, 0, 0, 0, 2, 0, 0, 2])"
      ]
     },
     "execution_count": 25,
     "metadata": {},
     "output_type": "execute_result"
    }
   ],
   "source": [
    "kmeanModel = KMeans(n_clusters = 3, random_state=0).fit(X)\n",
    "\n",
    "# See the labels of the points\n",
    "new_labels = kmeanModel.labels_\n",
    "new_labels"
   ]
  },
  {
   "cell_type": "code",
   "execution_count": 26,
   "metadata": {},
   "outputs": [
    {
     "data": {
      "text/plain": [
       "array([[6.85      , 3.07368421, 5.74210526, 2.07105263],\n",
       "       [5.006     , 3.418     , 1.464     , 0.244     ],\n",
       "       [5.9016129 , 2.7483871 , 4.39354839, 1.43387097]])"
      ]
     },
     "execution_count": 26,
     "metadata": {},
     "output_type": "execute_result"
    }
   ],
   "source": [
    "# identifying the center points of the data\n",
    "centers = kmeanModel.cluster_centers_\n",
    "centers"
   ]
  },
  {
   "cell_type": "code",
   "execution_count": 27,
   "metadata": {},
   "outputs": [
    {
     "data": {
      "text/plain": [
       "[<matplotlib.lines.Line2D at 0x1d5a8ccac10>]"
      ]
     },
     "execution_count": 27,
     "metadata": {},
     "output_type": "execute_result"
    },
    {
     "data": {
      "image/png": "[encoded data removed]",
      "text/plain": [
       "<Figure size 1152x360 with 2 Axes>"
      ]
     },
     "metadata": {
      "needs_background": "light"
     },
     "output_type": "display_data"
    }
   ],
   "source": [
    "# Plot the identified clusters and compare with the answers\n",
    "fig, axes = plt.subplots(1, 2, figsize=(16,5))\n",
    "\n",
    "#Adding labels\n",
    "axes[0].set_xlabel('Sepal length', fontsize=10)\n",
    "axes[0].set_ylabel('Sepal width', fontsize=10)\n",
    "axes[1].set_xlabel('Sepal length', fontsize=10)\n",
    "axes[1].set_ylabel('Sepal width', fontsize=10)\n",
    "\n",
    "# Adint graph title\n",
    "axes[0].set_title('Actual', fontsize=14)\n",
    "axes[1].set_title('Predicted', fontsize=14)\n",
    "\n",
    "# Ploting actual & predicted datasets\n",
    "axes[0].scatter(X[:,0], X[:,1], c=Y, cmap='gist_rainbow')\n",
    "axes[1].scatter(X[:,0], X[:,1], c=new_labels)\n",
    "\n",
    "# plotting the centers\n",
    "axes[1].plot(centers [:,0], centers[:,1],'rx')"
   ]
  },
  {
   "cell_type": "markdown",
   "metadata": {},
   "source": [
    "As you can see from the scatter plots comparison. The `K-means` clustering model is quite similar to the distribution in the initial Iris dataset. "
   ]
  },
  {
   "cell_type": "markdown",
   "metadata": {},
   "source": [
    "Let's predict using our model to cluster the potential Iris spieces of the random values of sepal & petal length & width:"
   ]
  },
  {
   "cell_type": "code",
   "execution_count": 28,
   "metadata": {},
   "outputs": [
    {
     "data": {
      "text/plain": [
       "array([1, 2, 0, 2])"
      ]
     },
     "execution_count": 28,
     "metadata": {},
     "output_type": "execute_result"
    }
   ],
   "source": [
    "# predicting cluster\n",
    "new_vals = np.asarray(([5.0, 3.8, 1.5, 0.2], [6.0, 3.5, 4.0, 2.2], [7.0, 2.5, 5.5, 1.8], [6.5, 2.5, 4.5, 2.0]))\n",
    "predictions = kmeanModel.predict(new_vals)\n",
    "predictions"
   ]
  },
  {
   "cell_type": "markdown",
   "metadata": {},
   "source": [
    "Let's put the predicted clusters of the new values on the graph:"
   ]
  },
  {
   "cell_type": "code",
   "execution_count": 29,
   "metadata": {},
   "outputs": [
    {
     "data": {
      "text/plain": [
       "[<matplotlib.lines.Line2D at 0x1d5a8d64340>]"
      ]
     },
     "execution_count": 29,
     "metadata": {},
     "output_type": "execute_result"
    },
    {
     "data": {
      "image/png": "[encoded data removed]",
      "text/plain": [
       "<Figure size 1152x576 with 1 Axes>"
      ]
     },
     "metadata": {
      "needs_background": "light"
     },
     "output_type": "display_data"
    }
   ],
   "source": [
    "# setting the size of the graph\n",
    "plt.figure(figsize=(16,8))\n",
    "\n",
    "# plotting the dataset with new values with prediction\n",
    "plt.scatter(X[:,0], X[:,1], c=new_labels)\n",
    "plt.xlabel('Sepal Length', fontsize=10)\n",
    "plt.ylabel('Sepal Width', fontsize=10)\n",
    "\n",
    "# plotting the centers\n",
    "plt.plot(centers [:,0], centers[:,1],'rx', markersize=15)\n",
    "\n",
    "#plotting new values\n",
    "plt.plot(new_vals[predictions == 0] [:,0], new_vals[predictions == 0] [:,1], 'b^', markersize=15)\n",
    "plt.plot(new_vals[predictions == 1] [:,0], new_vals[predictions == 1] [:,1], 'g^', markersize=15)\n",
    "plt.plot(new_vals[predictions == 2] [:,0], new_vals[predictions == 2] [:,1], 'y^', markersize=15)"
   ]
  },
  {
   "cell_type": "markdown",
   "metadata": {},
   "source": [
    "<a id=\"references\"></a>"
   ]
  },
  {
   "cell_type": "markdown",
   "metadata": {},
   "source": [
    "### **5. References**\n",
    "***"
   ]
  },
  {
   "cell_type": "markdown",
   "metadata": {},
   "source": [
    "1. Binary search algorythm - Wikipedia. [Online] Available from: https://en.wikipedia.org/wiki/Binary_search_algorithm#:~:text=In%20computer%20science%2C%20binary%20search,middle%20element%20of%20the%20array. [Viewed 26 Oct 2020]\n",
    "2. Square Root using Binary Search. [Online] Available from: https://algotree.org/algorithms/binary_search/squareroot/ [Viewed 26 Oct 2020]\n",
    "3. Finding the Square Root of a number using Binary Search (Java) - Stackoverflow. [Online] Available from: https://stackoverflow.com/questions/61936060/finding-the-square-root-of-a-number-by-using-binary-search [Viewed 26 Oct 2020]\n",
    "4. Find square root of a number using Binary Search algorithm. [Online] Available from: https://www.techiedelight.com/find-square-root-using-binary-search-algorithm/ [Viewed 26 Oct 2020]\n",
    "5. How do I write a program for finding the square root of a number without using the sqrt function?. [Online] Available from: https://www.quora.com/How-do-I-write-a-program-for-finding-the-square-root-of-a-number-without-using-the-sqrt-function [Viewed 26 Oct 2020]\n",
    "6. JAVA: Finding the square root of a number by using binary search - Stackoverflow. [Online] Available from: https://stackoverflow.com/questions/61936060/finding-the-square-root-of-a-number-by-using-binary-search [Viewed 8 Nov 2020]\n",
    "7. Decimal fixed point and floating point arithmetics. [Online] Available from: https://docs.python.org/3/library/decimal.html [Viewed 8 Nov 2020]\n",
    "8. Using binary search to find the square root of a number in C - Stackoverflow.[Online] Available from: https://stackoverflow.com/questions/40849402/using-binary-search-to-find-the-square-root-of-a-number-in-c/40849680 [Viewed 8 Nov 2020]\n",
    "9. Chi-squared test - Wikipedia. [Online] Available from: https://en.wikipedia.org/w/index.php?title=Chi-squared test&oldid=983024096 [Viewed 8 Nov 2020]\n",
    "10. A Gentle Introduction to the Chi-Squared Test for Machine Learning. [Online] Available from: https://machinelearningmastery.com/chi-squared-test-for-machine-learning/ [Viewed 8 Nov 2020]\n",
    "11. Running Ch-Square Tests with Die Roll Data in Python. [Online] Available from: https://towardsdatascience.com/running-chi-square-tests-in-python-with-die-roll-data-b9903817c51b [Viewed 8 Nov 2020]\n",
    "12. SciPy.org. Scipy.stats.ch2_contingency. [Online] Available from: https://docs.scipy.org/doc/scipy/reference/generated/scipy.stats.chi2_contingency.html [Viewed 8 Nov 2020]\n",
    "13. Chi-square test in Python. [Online] Available from: https://reneshbedre.github.io/blog/chisq.html#:~:text=cured%20and%20noncured) [Viewed 8 Nov 2020]\n",
    "14. SciPy.org. Scipy.stats.chi2. [Online] Available from: https://docs.scipy.org/doc/scipy/reference/generated/scipy.stats.chi2.html. [Viewed 8 Nov 2020]\n",
    "15. Numpy. [Online] Available from: https://numpy.org/doc/stable/reference/random/generated/numpy.random.normal.html [Viewed 24 Nov 2020]\n",
    "16. Population vs Sample Data. [Online] Available from: http://mathbitsnotebook.com/Algebra1/StatisticsData/STPopSample.html [Viewed 24 Nov 2020]\n",
    "17. Churn_Modelling.csv [Online] Available from: https://www.kaggle.com/barelydedicated/bank-customer-churn-modeling [Viewed 24 Nov 2020]\n",
    "18. How to use the STDEV.S Function in Excel. [Online] Available from: https://www.exceltip.com/statistical-formulas/how-to-use-stdev-s-function-in-excel.html [Viewed 24 Nov 2020]\n",
    "19. Computing Sample Variance: Why Divide by N - 1?.[Online] Available from: https://mortada.net/computing-sample-variance-why-divide-by-n-1.html [Viewed 24 Nov 2020]\n",
    "20. K-means clustering using sklearn and Python [Online] Available from: https://heartbeat.fritz.ai/k-means-clustering-using-sklearn-and-python-4a054d67b187 [Viewed 2 Dec 2020]\n",
    "21. PREDICTING IRIS FLOWER SPECIES WITH K-MEANS CLUSTERING IN PYTHON. [Online] Available from: https://medium.com/@belen.sanchez27/predicting-iris-flower-species-with-k-means-clustering-in-python-f6e46806aaee [Viewed 2 Dec 2020]\n",
    "22. K-Means Elbow Method Code For Python [Online] Available from: https://predictivehacks.com/k-means-elbow-method-code-for-python/ [Viewed 2 Dec 2020]\n",
    "23. Elbow Method for optimal value of k in KMeans [Online] Available from: https://www.geeksforgeeks.org/elbow-method-for-optimal-value-of-k-in-kmeans/ [Viewed 2 Dec 2020]\n",
    "24. sklearn.cluster.KMeans [Online] Available from:https://scikit-learn.org/stable/modules/generated/sklearn.cluster.KMeans.html [Viewed 2 Dec 2020]\n",
    "25. LaTex. [Online] Available from: https://en.wikibooks.org/wiki/LaTeX/Mathematics. [Viewed 26 Oct 2020]\n",
    "26. Markdown in Jupyter Notebook. https://www.datacamp.com/community/tutorials/markdown-in-jupyter-notebook?utm_source=adwords_ppc&utm_campaignid=898687156&utm_adgroupid=48947256715&utm_device=c&utm_keyword=&utm_matchtype=b&utm_network=g&utm_adpostion=&utm_creative=332602034349&utm_targetid=aud-392016246653:dsa-429603003980&utm_loc_interest_ms=&utm_loc_physical_ms=20489&gclid=CjwKCAjwoc_8BRAcEiwAzJevtX4RINIUMp_KK-_GyNV1X-ptLEtPDfvJ9VBN2BUdNU4cR-XXIoXPBxoCNYwQAvD_BwE [Viewed 26 Oct 2020]"
   ]
  }
 ],
 "metadata": {
  "kernelspec": {
   "display_name": "Python 3",
   "language": "python",
   "name": "python3"
  },
  "language_info": {
   "codemirror_mode": {
    "name": "ipython",
    "version": 3
   },
   "file_extension": ".py",
   "mimetype": "text/x-python",
   "name": "python",
   "nbconvert_exporter": "python",
   "pygments_lexer": "ipython3",
   "version": "3.8.3"
  }
 },
 "nbformat": 4,
 "nbformat_minor": 4
}
