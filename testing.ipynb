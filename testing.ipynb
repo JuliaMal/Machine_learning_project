{
 "cells": [
  {
   "cell_type": "code",
   "execution_count": 1,
   "metadata": {},
   "outputs": [
    {
     "name": "stderr",
     "output_type": "stream",
     "text": [
      "C:\\Users\\I304319\\Anaconda3_2020-07\\lib\\site-packages\\numpy\\_distributor_init.py:30: UserWarning: loaded more than 1 DLL from .libs:\n",
      "C:\\Users\\I304319\\Anaconda3_2020-07\\lib\\site-packages\\numpy\\.libs\\libopenblas.NOIJJG62EMASZI6NYURL6JBKM4EVBGM7.gfortran-win_amd64.dll\n",
      "C:\\Users\\I304319\\Anaconda3_2020-07\\lib\\site-packages\\numpy\\.libs\\libopenblas.PYQHXLVVQ7VESDPUVUADXEVJOBGHJPAY.gfortran-win_amd64.dll\n",
      "  warnings.warn(\"loaded more than 1 DLL from .libs:\\n%s\" %\n"
     ]
    }
   ],
   "source": [
    "# Numerical arrays\n",
    "import numpy as np\n",
    "\n",
    "# read a csv file and organise our data\n",
    "import pandas as pd\n",
    "\n",
    "# Machine Learning - KMeans\n",
    "#from sklearn import datasets\n",
    "from sklearn.cluster import KMeans\n",
    "import sklearn.neural_network as sknn\n",
    "#from sklearn import function to split the dataset into train & test sets\n",
    "from sklearn.model_selection import train_test_split\n",
    "\n",
    "from sklearn.ensemble import RandomForestRegressor\n",
    "#from sklearn import mean absolute error (MAE) performance metric to evaluate predictions\n",
    "from sklearn.metrics import mean_absolute_error\n",
    "#import sklearn.cluster as skcl\n",
    "\n",
    "# Plotting & visualisation\n",
    "import matplotlib.pyplot as plt\n",
    "import seaborn as sns\n",
    "%matplotlib inline "
   ]
  },
  {
   "cell_type": "code",
   "execution_count": 8,
   "metadata": {},
   "outputs": [],
   "source": [
    "# Read the powerproduction.csv from a file\n",
    "df = pd.read_csv('powerproduction.csv')\n",
    "\n",
    "# removing all rows where the power data is not maintained (equals 0.0)\n",
    "df = df[df['power'] !=0]\n",
    "\n",
    "array = df.values\n",
    "X = array[:, 0]\n",
    "Y = array[:, 1]"
   ]
  },
  {
   "cell_type": "code",
   "execution_count": 9,
   "metadata": {},
   "outputs": [],
   "source": [
    "X_train, X_test, Y_train, Y_test = train_test_split(X, Y, test_size=0.2, random_state=1)"
   ]
  },
  {
   "cell_type": "code",
   "execution_count": 7,
   "metadata": {},
   "outputs": [
    {
     "ename": "ValueError",
     "evalue": "Expected 2D array, got 1D array instead:\narray=[12.162 22.147 23.799  3.053 18.994  3.954 18.944 12.462 10.485  5.305\n 17.367 19.645 21.121 24.374 12.788  9.209 22.022  0.826  1.877 21.046\n 23.549  1.902  7.858 14.615  6.757 14.765 24.85  17.267  4.179  2.227\n 22.998  4.98  22.472  4.304 18.694 16.592 22.723 22.823 18.794 11.361\n  7.082  5.631 11.812 14.84  10.285 16.842 10.11   5.08   6.156  1.001\n  0.676  3.203 15.215  1.827 18.068 12.888 12.287  8.634  5.205 14.865\n 12.362 17.568 18.844 14.489 21.421 13.038  6.456  4.329 23.123 13.564\n  1.101  4.88  19.545  3.779  9.56   8.534  7.908  3.629 11.036  4.93\n 13.739 20.871 18.919  6.356 18.594 14.014  3.078  6.106  0.626 19.269\n 11.336 11.987 25.    15.991  7.808 18.318  9.61  13.539 11.737 20.17\n 18.744 22.497 17.342 10.511  4.78  23.298  6.732  6.231  8.684 20.521\n  9.885  0.701 19.795 12.387  6.181  7.057  5.806  2.578  5.831  0.526\n  0.851  0.751 21.471  0.    17.518  5.556 14.039 19.895 24.049 21.822\n 21.321  3.679 16.291 13.964 22.272  1.702  7.508 15.115 22.873  8.033\n  8.208 12.412 10.385  9.81  22.673 23.574  7.257 13.989 21.446 23.624\n 17.442 18.218  2.027  7.883 22.422 24.024 22.072 20.095 16.692  8.759\n 20.345 17.893 11.687 23.899 11.662  5.28  20.045  2.828 11.612 23.423\n 24.95   7.683 12.588  7.833 13.939  2.102  5.906 16.191 10.711  5.706\n  8.408  3.979 23.599  4.53   0.501  1.401  5.255 21.922 20.32  11.286\n  1.151 14.64  19.695  2.953 23.724 24.199 20.295  2.402 23.699 17.643\n  1.426  1.552  3.403 19.845 15.591 11.937 24.399  2.177 15.415  8.859\n 11.111 19.069 15.165  0.951 12.487 15.716 10.16   6.982  1.026  9.535\n 10.36   6.832 15.24   5.981 10.736 22.773 21.496 23.348 11.787 11.011\n  3.003 23.273 24.875 18.519 18.393  9.259  5.18   5.931 14.264  6.031\n 18.869  8.458 21.722  2.853  8.834 16.667  9.985 10.135 17.793  9.309\n 20.27   5.455 11.161  6.682 17.618 17.117 18.268  3.128  5.03   9.96\n  7.107  7.407 10.235  7.608 17.067 20.22   0.551 13.714  5.13  10.661\n 12.212  3.028 15.315 19.094 18.043  1.652 24.499  0.926 22.247 16.917\n  3.879 10.185  3.929 13.313 24.65   7.432 22.222  0.15   2.703 13.263\n 12.663 23.023 12.963 16.942 18.544 16.366  9.434  7.558 22.798 15.34\n  9.86   3.804 17.492 12.337 24.174  4.73  12.187  7.207 20.771 13.438\n 14.715  6.957  8.183  4.429 22.322  7.708 17.818 19.044 14.289  6.406\n 10.035 13.388 24.349  5.506  7.633 14.389 19.62  11.386 18.418  1.051\n 10.085  3.428  0.726 15.19  18.619  5.731 17.017 15.666  1.076  3.904\n  2.077 14.339  0.225 23.223  2.477 20.12  19.444 24.299  1.276  6.131\n 21.672  5.956 23.373 10.986 13.338 10.561 16.066 19.169  0.125 15.916\n  0.976 16.091 16.241  0.45  24.75   7.157  4.605 17.593 12.262 10.961\n  3.604  2.553 19.82  20.47   7.733 12.613 19.72  23.498 19.97  17.843\n 12.713 14.139  8.884 14.364 19.595 12.037  3.704 23.248  6.607  7.232\n 22.523 16.992  6.782 10.26  19.67  12.738  3.729 19.77  11.962  1.677].\nReshape your data either using array.reshape(-1, 1) if your data has a single feature or array.reshape(1, -1) if it contains a single sample.",
     "output_type": "error",
     "traceback": [
      "\u001b[1;31m---------------------------------------------------------------------------\u001b[0m",
      "\u001b[1;31mValueError\u001b[0m                                Traceback (most recent call last)",
      "\u001b[1;32m<ipython-input-7-9a80658ab8bd>\u001b[0m in \u001b[0;36m<module>\u001b[1;34m\u001b[0m\n\u001b[0;32m      1\u001b[0m \u001b[1;31m# fitting the model\u001b[0m\u001b[1;33m\u001b[0m\u001b[1;33m\u001b[0m\u001b[1;33m\u001b[0m\u001b[0m\n\u001b[0;32m      2\u001b[0m \u001b[0mmodel\u001b[0m \u001b[1;33m=\u001b[0m \u001b[0mRandomForestRegressor\u001b[0m\u001b[1;33m(\u001b[0m\u001b[0mrandom_state\u001b[0m\u001b[1;33m=\u001b[0m\u001b[1;36m0\u001b[0m\u001b[1;33m)\u001b[0m\u001b[1;33m\u001b[0m\u001b[1;33m\u001b[0m\u001b[0m\n\u001b[1;32m----> 3\u001b[1;33m \u001b[0mmodel\u001b[0m\u001b[1;33m.\u001b[0m\u001b[0mfit\u001b[0m\u001b[1;33m(\u001b[0m\u001b[0mX_train\u001b[0m\u001b[1;33m,\u001b[0m \u001b[0mY_train\u001b[0m\u001b[1;33m)\u001b[0m\u001b[1;33m\u001b[0m\u001b[1;33m\u001b[0m\u001b[0m\n\u001b[0m",
      "\u001b[1;32m~\\Anaconda3_2020-07\\lib\\site-packages\\sklearn\\ensemble\\_forest.py\u001b[0m in \u001b[0;36mfit\u001b[1;34m(self, X, y, sample_weight)\u001b[0m\n\u001b[0;32m    301\u001b[0m                 \u001b[1;34m\"sparse multilabel-indicator for y is not supported.\"\u001b[0m\u001b[1;33m\u001b[0m\u001b[1;33m\u001b[0m\u001b[0m\n\u001b[0;32m    302\u001b[0m             )\n\u001b[1;32m--> 303\u001b[1;33m         X, y = self._validate_data(X, y, multi_output=True,\n\u001b[0m\u001b[0;32m    304\u001b[0m                                    accept_sparse=\"csc\", dtype=DTYPE)\n\u001b[0;32m    305\u001b[0m         \u001b[1;32mif\u001b[0m \u001b[0msample_weight\u001b[0m \u001b[1;32mis\u001b[0m \u001b[1;32mnot\u001b[0m \u001b[1;32mNone\u001b[0m\u001b[1;33m:\u001b[0m\u001b[1;33m\u001b[0m\u001b[1;33m\u001b[0m\u001b[0m\n",
      "\u001b[1;32m~\\Anaconda3_2020-07\\lib\\site-packages\\sklearn\\base.py\u001b[0m in \u001b[0;36m_validate_data\u001b[1;34m(self, X, y, reset, validate_separately, **check_params)\u001b[0m\n\u001b[0;32m    430\u001b[0m                 \u001b[0my\u001b[0m \u001b[1;33m=\u001b[0m \u001b[0mcheck_array\u001b[0m\u001b[1;33m(\u001b[0m\u001b[0my\u001b[0m\u001b[1;33m,\u001b[0m \u001b[1;33m**\u001b[0m\u001b[0mcheck_y_params\u001b[0m\u001b[1;33m)\u001b[0m\u001b[1;33m\u001b[0m\u001b[1;33m\u001b[0m\u001b[0m\n\u001b[0;32m    431\u001b[0m             \u001b[1;32melse\u001b[0m\u001b[1;33m:\u001b[0m\u001b[1;33m\u001b[0m\u001b[1;33m\u001b[0m\u001b[0m\n\u001b[1;32m--> 432\u001b[1;33m                 \u001b[0mX\u001b[0m\u001b[1;33m,\u001b[0m \u001b[0my\u001b[0m \u001b[1;33m=\u001b[0m \u001b[0mcheck_X_y\u001b[0m\u001b[1;33m(\u001b[0m\u001b[0mX\u001b[0m\u001b[1;33m,\u001b[0m \u001b[0my\u001b[0m\u001b[1;33m,\u001b[0m \u001b[1;33m**\u001b[0m\u001b[0mcheck_params\u001b[0m\u001b[1;33m)\u001b[0m\u001b[1;33m\u001b[0m\u001b[1;33m\u001b[0m\u001b[0m\n\u001b[0m\u001b[0;32m    433\u001b[0m             \u001b[0mout\u001b[0m \u001b[1;33m=\u001b[0m \u001b[0mX\u001b[0m\u001b[1;33m,\u001b[0m \u001b[0my\u001b[0m\u001b[1;33m\u001b[0m\u001b[1;33m\u001b[0m\u001b[0m\n\u001b[0;32m    434\u001b[0m \u001b[1;33m\u001b[0m\u001b[0m\n",
      "\u001b[1;32m~\\Anaconda3_2020-07\\lib\\site-packages\\sklearn\\utils\\validation.py\u001b[0m in \u001b[0;36minner_f\u001b[1;34m(*args, **kwargs)\u001b[0m\n\u001b[0;32m     70\u001b[0m                           FutureWarning)\n\u001b[0;32m     71\u001b[0m         \u001b[0mkwargs\u001b[0m\u001b[1;33m.\u001b[0m\u001b[0mupdate\u001b[0m\u001b[1;33m(\u001b[0m\u001b[1;33m{\u001b[0m\u001b[0mk\u001b[0m\u001b[1;33m:\u001b[0m \u001b[0marg\u001b[0m \u001b[1;32mfor\u001b[0m \u001b[0mk\u001b[0m\u001b[1;33m,\u001b[0m \u001b[0marg\u001b[0m \u001b[1;32min\u001b[0m \u001b[0mzip\u001b[0m\u001b[1;33m(\u001b[0m\u001b[0msig\u001b[0m\u001b[1;33m.\u001b[0m\u001b[0mparameters\u001b[0m\u001b[1;33m,\u001b[0m \u001b[0margs\u001b[0m\u001b[1;33m)\u001b[0m\u001b[1;33m}\u001b[0m\u001b[1;33m)\u001b[0m\u001b[1;33m\u001b[0m\u001b[1;33m\u001b[0m\u001b[0m\n\u001b[1;32m---> 72\u001b[1;33m         \u001b[1;32mreturn\u001b[0m \u001b[0mf\u001b[0m\u001b[1;33m(\u001b[0m\u001b[1;33m**\u001b[0m\u001b[0mkwargs\u001b[0m\u001b[1;33m)\u001b[0m\u001b[1;33m\u001b[0m\u001b[1;33m\u001b[0m\u001b[0m\n\u001b[0m\u001b[0;32m     73\u001b[0m     \u001b[1;32mreturn\u001b[0m \u001b[0minner_f\u001b[0m\u001b[1;33m\u001b[0m\u001b[1;33m\u001b[0m\u001b[0m\n\u001b[0;32m     74\u001b[0m \u001b[1;33m\u001b[0m\u001b[0m\n",
      "\u001b[1;32m~\\Anaconda3_2020-07\\lib\\site-packages\\sklearn\\utils\\validation.py\u001b[0m in \u001b[0;36mcheck_X_y\u001b[1;34m(X, y, accept_sparse, accept_large_sparse, dtype, order, copy, force_all_finite, ensure_2d, allow_nd, multi_output, ensure_min_samples, ensure_min_features, y_numeric, estimator)\u001b[0m\n\u001b[0;32m    793\u001b[0m         \u001b[1;32mraise\u001b[0m \u001b[0mValueError\u001b[0m\u001b[1;33m(\u001b[0m\u001b[1;34m\"y cannot be None\"\u001b[0m\u001b[1;33m)\u001b[0m\u001b[1;33m\u001b[0m\u001b[1;33m\u001b[0m\u001b[0m\n\u001b[0;32m    794\u001b[0m \u001b[1;33m\u001b[0m\u001b[0m\n\u001b[1;32m--> 795\u001b[1;33m     X = check_array(X, accept_sparse=accept_sparse,\n\u001b[0m\u001b[0;32m    796\u001b[0m                     \u001b[0maccept_large_sparse\u001b[0m\u001b[1;33m=\u001b[0m\u001b[0maccept_large_sparse\u001b[0m\u001b[1;33m,\u001b[0m\u001b[1;33m\u001b[0m\u001b[1;33m\u001b[0m\u001b[0m\n\u001b[0;32m    797\u001b[0m                     \u001b[0mdtype\u001b[0m\u001b[1;33m=\u001b[0m\u001b[0mdtype\u001b[0m\u001b[1;33m,\u001b[0m \u001b[0morder\u001b[0m\u001b[1;33m=\u001b[0m\u001b[0morder\u001b[0m\u001b[1;33m,\u001b[0m \u001b[0mcopy\u001b[0m\u001b[1;33m=\u001b[0m\u001b[0mcopy\u001b[0m\u001b[1;33m,\u001b[0m\u001b[1;33m\u001b[0m\u001b[1;33m\u001b[0m\u001b[0m\n",
      "\u001b[1;32m~\\Anaconda3_2020-07\\lib\\site-packages\\sklearn\\utils\\validation.py\u001b[0m in \u001b[0;36minner_f\u001b[1;34m(*args, **kwargs)\u001b[0m\n\u001b[0;32m     70\u001b[0m                           FutureWarning)\n\u001b[0;32m     71\u001b[0m         \u001b[0mkwargs\u001b[0m\u001b[1;33m.\u001b[0m\u001b[0mupdate\u001b[0m\u001b[1;33m(\u001b[0m\u001b[1;33m{\u001b[0m\u001b[0mk\u001b[0m\u001b[1;33m:\u001b[0m \u001b[0marg\u001b[0m \u001b[1;32mfor\u001b[0m \u001b[0mk\u001b[0m\u001b[1;33m,\u001b[0m \u001b[0marg\u001b[0m \u001b[1;32min\u001b[0m \u001b[0mzip\u001b[0m\u001b[1;33m(\u001b[0m\u001b[0msig\u001b[0m\u001b[1;33m.\u001b[0m\u001b[0mparameters\u001b[0m\u001b[1;33m,\u001b[0m \u001b[0margs\u001b[0m\u001b[1;33m)\u001b[0m\u001b[1;33m}\u001b[0m\u001b[1;33m)\u001b[0m\u001b[1;33m\u001b[0m\u001b[1;33m\u001b[0m\u001b[0m\n\u001b[1;32m---> 72\u001b[1;33m         \u001b[1;32mreturn\u001b[0m \u001b[0mf\u001b[0m\u001b[1;33m(\u001b[0m\u001b[1;33m**\u001b[0m\u001b[0mkwargs\u001b[0m\u001b[1;33m)\u001b[0m\u001b[1;33m\u001b[0m\u001b[1;33m\u001b[0m\u001b[0m\n\u001b[0m\u001b[0;32m     73\u001b[0m     \u001b[1;32mreturn\u001b[0m \u001b[0minner_f\u001b[0m\u001b[1;33m\u001b[0m\u001b[1;33m\u001b[0m\u001b[0m\n\u001b[0;32m     74\u001b[0m \u001b[1;33m\u001b[0m\u001b[0m\n",
      "\u001b[1;32m~\\Anaconda3_2020-07\\lib\\site-packages\\sklearn\\utils\\validation.py\u001b[0m in \u001b[0;36mcheck_array\u001b[1;34m(array, accept_sparse, accept_large_sparse, dtype, order, copy, force_all_finite, ensure_2d, allow_nd, ensure_min_samples, ensure_min_features, estimator)\u001b[0m\n\u001b[0;32m    617\u001b[0m             \u001b[1;31m# If input is 1D raise error\u001b[0m\u001b[1;33m\u001b[0m\u001b[1;33m\u001b[0m\u001b[1;33m\u001b[0m\u001b[0m\n\u001b[0;32m    618\u001b[0m             \u001b[1;32mif\u001b[0m \u001b[0marray\u001b[0m\u001b[1;33m.\u001b[0m\u001b[0mndim\u001b[0m \u001b[1;33m==\u001b[0m \u001b[1;36m1\u001b[0m\u001b[1;33m:\u001b[0m\u001b[1;33m\u001b[0m\u001b[1;33m\u001b[0m\u001b[0m\n\u001b[1;32m--> 619\u001b[1;33m                 raise ValueError(\n\u001b[0m\u001b[0;32m    620\u001b[0m                     \u001b[1;34m\"Expected 2D array, got 1D array instead:\\narray={}.\\n\"\u001b[0m\u001b[1;33m\u001b[0m\u001b[1;33m\u001b[0m\u001b[0m\n\u001b[0;32m    621\u001b[0m                     \u001b[1;34m\"Reshape your data either using array.reshape(-1, 1) if \"\u001b[0m\u001b[1;33m\u001b[0m\u001b[1;33m\u001b[0m\u001b[0m\n",
      "\u001b[1;31mValueError\u001b[0m: Expected 2D array, got 1D array instead:\narray=[12.162 22.147 23.799  3.053 18.994  3.954 18.944 12.462 10.485  5.305\n 17.367 19.645 21.121 24.374 12.788  9.209 22.022  0.826  1.877 21.046\n 23.549  1.902  7.858 14.615  6.757 14.765 24.85  17.267  4.179  2.227\n 22.998  4.98  22.472  4.304 18.694 16.592 22.723 22.823 18.794 11.361\n  7.082  5.631 11.812 14.84  10.285 16.842 10.11   5.08   6.156  1.001\n  0.676  3.203 15.215  1.827 18.068 12.888 12.287  8.634  5.205 14.865\n 12.362 17.568 18.844 14.489 21.421 13.038  6.456  4.329 23.123 13.564\n  1.101  4.88  19.545  3.779  9.56   8.534  7.908  3.629 11.036  4.93\n 13.739 20.871 18.919  6.356 18.594 14.014  3.078  6.106  0.626 19.269\n 11.336 11.987 25.    15.991  7.808 18.318  9.61  13.539 11.737 20.17\n 18.744 22.497 17.342 10.511  4.78  23.298  6.732  6.231  8.684 20.521\n  9.885  0.701 19.795 12.387  6.181  7.057  5.806  2.578  5.831  0.526\n  0.851  0.751 21.471  0.    17.518  5.556 14.039 19.895 24.049 21.822\n 21.321  3.679 16.291 13.964 22.272  1.702  7.508 15.115 22.873  8.033\n  8.208 12.412 10.385  9.81  22.673 23.574  7.257 13.989 21.446 23.624\n 17.442 18.218  2.027  7.883 22.422 24.024 22.072 20.095 16.692  8.759\n 20.345 17.893 11.687 23.899 11.662  5.28  20.045  2.828 11.612 23.423\n 24.95   7.683 12.588  7.833 13.939  2.102  5.906 16.191 10.711  5.706\n  8.408  3.979 23.599  4.53   0.501  1.401  5.255 21.922 20.32  11.286\n  1.151 14.64  19.695  2.953 23.724 24.199 20.295  2.402 23.699 17.643\n  1.426  1.552  3.403 19.845 15.591 11.937 24.399  2.177 15.415  8.859\n 11.111 19.069 15.165  0.951 12.487 15.716 10.16   6.982  1.026  9.535\n 10.36   6.832 15.24   5.981 10.736 22.773 21.496 23.348 11.787 11.011\n  3.003 23.273 24.875 18.519 18.393  9.259  5.18   5.931 14.264  6.031\n 18.869  8.458 21.722  2.853  8.834 16.667  9.985 10.135 17.793  9.309\n 20.27   5.455 11.161  6.682 17.618 17.117 18.268  3.128  5.03   9.96\n  7.107  7.407 10.235  7.608 17.067 20.22   0.551 13.714  5.13  10.661\n 12.212  3.028 15.315 19.094 18.043  1.652 24.499  0.926 22.247 16.917\n  3.879 10.185  3.929 13.313 24.65   7.432 22.222  0.15   2.703 13.263\n 12.663 23.023 12.963 16.942 18.544 16.366  9.434  7.558 22.798 15.34\n  9.86   3.804 17.492 12.337 24.174  4.73  12.187  7.207 20.771 13.438\n 14.715  6.957  8.183  4.429 22.322  7.708 17.818 19.044 14.289  6.406\n 10.035 13.388 24.349  5.506  7.633 14.389 19.62  11.386 18.418  1.051\n 10.085  3.428  0.726 15.19  18.619  5.731 17.017 15.666  1.076  3.904\n  2.077 14.339  0.225 23.223  2.477 20.12  19.444 24.299  1.276  6.131\n 21.672  5.956 23.373 10.986 13.338 10.561 16.066 19.169  0.125 15.916\n  0.976 16.091 16.241  0.45  24.75   7.157  4.605 17.593 12.262 10.961\n  3.604  2.553 19.82  20.47   7.733 12.613 19.72  23.498 19.97  17.843\n 12.713 14.139  8.884 14.364 19.595 12.037  3.704 23.248  6.607  7.232\n 22.523 16.992  6.782 10.26  19.67  12.738  3.729 19.77  11.962  1.677].\nReshape your data either using array.reshape(-1, 1) if your data has a single feature or array.reshape(1, -1) if it contains a single sample."
     ]
    }
   ],
   "source": [
    "# fitting the model\n",
    "model = RandomForestRegressor(random_state=0)\n",
    "model.fit(X_train, Y_train)"
   ]
  },
  {
   "cell_type": "code",
   "execution_count": null,
   "metadata": {},
   "outputs": [],
   "source": []
  }
 ],
 "metadata": {
  "kernelspec": {
   "display_name": "Python 3",
   "language": "python",
   "name": "python3"
  },
  "language_info": {
   "codemirror_mode": {
    "name": "ipython",
    "version": 3
   },
   "file_extension": ".py",
   "mimetype": "text/x-python",
   "name": "python",
   "nbconvert_exporter": "python",
   "pygments_lexer": "ipython3",
   "version": "3.8.5"
  }
 },
 "nbformat": 4,
 "nbformat_minor": 4
}
