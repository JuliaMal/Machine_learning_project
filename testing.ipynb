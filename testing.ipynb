{
 "cells": [
  {
   "cell_type": "code",
   "execution_count": 1,
   "metadata": {},
   "outputs": [
    {
     "name": "stderr",
     "output_type": "stream",
     "text": [
      "C:\\Users\\I304319\\Anaconda3_2020-07\\lib\\site-packages\\numpy\\_distributor_init.py:30: UserWarning: loaded more than 1 DLL from .libs:\n",
      "C:\\Users\\I304319\\Anaconda3_2020-07\\lib\\site-packages\\numpy\\.libs\\libopenblas.NOIJJG62EMASZI6NYURL6JBKM4EVBGM7.gfortran-win_amd64.dll\n",
      "C:\\Users\\I304319\\Anaconda3_2020-07\\lib\\site-packages\\numpy\\.libs\\libopenblas.PYQHXLVVQ7VESDPUVUADXEVJOBGHJPAY.gfortran-win_amd64.dll\n",
      "  warnings.warn(\"loaded more than 1 DLL from .libs:\\n%s\" %\n"
     ]
    }
   ],
   "source": [
    "# Numerical arrays\n",
    "import numpy as np\n",
    "\n",
    "# read a csv file and organise our data\n",
    "import pandas as pd\n",
    "\n",
    "# Machine Learning - KMeans\n",
    "#from sklearn import datasets\n",
    "from sklearn.cluster import KMeans\n",
    "import sklearn.neural_network as sknn\n",
    "#from sklearn import function to split the dataset into train & test sets\n",
    "from sklearn.model_selection import train_test_split\n",
    "\n",
    "from sklearn.ensemble import RandomForestRegressor\n",
    "#from sklearn import mean absolute error (MAE) performance metric to evaluate predictions\n",
    "from sklearn.metrics import mean_absolute_error\n",
    "#import sklearn.cluster as skcl\n",
    "\n",
    "# Plotting & visualisation\n",
    "import matplotlib.pyplot as plt\n",
    "import seaborn as sns\n",
    "%matplotlib inline "
   ]
  },
  {
   "cell_type": "code",
   "execution_count": 8,
   "metadata": {},
   "outputs": [],
   "source": [
    "# Read the powerproduction.csv from a file\n",
    "df = pd.read_csv('powerproduction.csv')\n",
    "\n",
    "# removing all rows where the power data is not maintained (equals 0.0)\n",
    "df = df[df['power'] !=0]\n",
    "\n",
    "array = df.values\n",
    "X = array[:, 0]\n",
    "Y = array[:, 1]"
   ]
  },
  {
   "cell_type": "code",
   "execution_count": 9,
   "metadata": {},
   "outputs": [],
   "source": [
    "X_train, X_test, Y_train, Y_test = train_test_split(X, Y, test_size=0.3, random_state=1)"
   ]
  },
  {
   "cell_type": "code",
   "execution_count": null,
   "metadata": {},
   "outputs": [],
   "source": []
  },
  {
   "cell_type": "code",
   "execution_count": null,
   "metadata": {},
   "outputs": [],
   "source": []
  }
 ],
 "metadata": {
  "kernelspec": {
   "display_name": "Python 3",
   "language": "python",
   "name": "python3"
  },
  "language_info": {
   "codemirror_mode": {
    "name": "ipython",
    "version": 3
   },
   "file_extension": ".py",
   "mimetype": "text/x-python",
   "name": "python",
   "nbconvert_exporter": "python",
   "pygments_lexer": "ipython3",
   "version": "3.8.5"
  }
 },
 "nbformat": 4,
 "nbformat_minor": 4
}
